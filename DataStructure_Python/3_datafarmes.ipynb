{
 "metadata": {
  "language_info": {
   "codemirror_mode": {
    "name": "ipython",
    "version": 3
   },
   "file_extension": ".py",
   "mimetype": "text/x-python",
   "name": "python",
   "nbconvert_exporter": "python",
   "pygments_lexer": "ipython3",
   "version": "3.9.1-final"
  },
  "orig_nbformat": 2,
  "kernelspec": {
   "name": "python3",
   "display_name": "Python 3",
   "language": "python"
  }
 },
 "nbformat": 4,
 "nbformat_minor": 2,
 "cells": [
  {
   "cell_type": "code",
   "execution_count": 32,
   "metadata": {},
   "outputs": [
    {
     "output_type": "stream",
     "name": "stdout",
     "text": [
      "    Name  Score       Team\n0  Kohli     50      India\n1  Rohit     58      India\n2  Smith    119  Australia\n"
     ]
    }
   ],
   "source": [
    "#import pandas\n",
    "import pandas as pd\n",
    "MyDict = {\n",
    "    \"Name\":[\"Kohli\",\"Rohit\",\"Smith\"],\n",
    "    \"Score\":[50,58,119,],\n",
    "    \"Team\":[\"India\",\"India\",\"Australia\"]\n",
    "}\n",
    "dataf= pd.DataFrame(MyDict)\n",
    "print(dataf)"
   ]
  },
  {
   "cell_type": "code",
   "execution_count": 33,
   "metadata": {},
   "outputs": [
    {
     "output_type": "stream",
     "name": "stdout",
     "text": [
      "Rows:3 Cols:3\n"
     ]
    }
   ],
   "source": [
    "#shape of dataframe\n",
    "dataf.shape\n",
    "rows,cols=dataf.shape\n",
    "print(\"Rows:\"+str(rows)+\" Cols:\"+str(cols))"
   ]
  },
  {
   "cell_type": "code",
   "execution_count": 34,
   "metadata": {},
   "outputs": [
    {
     "output_type": "stream",
     "name": "stdout",
     "text": [
      "head\n    Name  Score   Team\n0  Kohli     50  India\n1  Rohit     58  India\ntail\n    Name  Score       Team\n1  Rohit     58      India\n2  Smith    119  Australia\n"
     ]
    }
   ],
   "source": [
    "#head and tail\n",
    "print(\"head\")\n",
    "print(dataf.head(2))\n",
    "print(\"tail\")\n",
    "print(dataf.tail(2))"
   ]
  },
  {
   "cell_type": "code",
   "execution_count": 35,
   "metadata": {},
   "outputs": [
    {
     "output_type": "stream",
     "name": "stdout",
     "text": [
      "    Name  Score   Team\n1  Rohit     58  India\n"
     ]
    },
    {
     "output_type": "execute_result",
     "data": {
      "text/plain": [
       "0     50\n",
       "1     58\n",
       "2    119\n",
       "Name: Score, dtype: int64"
      ]
     },
     "metadata": {},
     "execution_count": 35
    }
   ],
   "source": [
    "print(dataf[1:2])\n",
    "\n",
    "dataf.Score"
   ]
  },
  {
   "cell_type": "code",
   "execution_count": 36,
   "metadata": {},
   "outputs": [
    {
     "output_type": "stream",
     "name": "stdout",
     "text": [
      "119\n50\n75.66666666666667\n"
     ]
    }
   ],
   "source": [
    "#functions of df\n",
    "print(dataf[\"Score\"].max())\n",
    "print(dataf[\"Score\"].min())\n",
    "print(dataf[\"Score\"].mean())\n"
   ]
  },
  {
   "cell_type": "code",
   "execution_count": 37,
   "metadata": {},
   "outputs": [
    {
     "output_type": "execute_result",
     "data": {
      "text/plain": [
       "<bound method NDFrame.describe of     Name  Score       Team\n",
       "0  Kohli     50      India\n",
       "1  Rohit     58      India\n",
       "2  Smith    119  Australia>"
      ]
     },
     "metadata": {},
     "execution_count": 37
    }
   ],
   "source": [
    "dataf.describe"
   ]
  }
 ]
}