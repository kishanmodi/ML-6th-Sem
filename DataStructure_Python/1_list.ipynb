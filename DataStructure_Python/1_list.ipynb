{
 "metadata": {
  "language_info": {
   "codemirror_mode": {
    "name": "ipython",
    "version": 3
   },
   "file_extension": ".py",
   "mimetype": "text/x-python",
   "name": "python",
   "nbconvert_exporter": "python",
   "pygments_lexer": "ipython3",
   "version": "3.9.1-final"
  },
  "orig_nbformat": 2,
  "kernelspec": {
   "name": "python3",
   "display_name": "Python 3.9.1 64-bit",
   "metadata": {
    "interpreter": {
     "hash": "1c6a71a26d9bfac525af55596dfcf8fe47629db145f4a28e6faf627160b289f4"
    }
   }
  }
 },
 "nbformat": 4,
 "nbformat_minor": 2,
 "cells": [
  {
   "source": [
    "#List Manipulation Methods In python\n",
    "\n",
    "mylist1=['Tony','Michael','Denise','Mark']\n",
    "mylist2=['Boi','LOl','xd']\n",
    "\n",
    "print(mylist1)\n",
    "print(mylist2)\n"
   ],
   "cell_type": "code",
   "metadata": {},
   "execution_count": 3,
   "outputs": [
    {
     "output_type": "stream",
     "name": "stdout",
     "text": [
      "['Tony', 'Michael', 'Denise', 'Mark']\n['Boi', 'LOl', 'xd']\n"
     ]
    }
   ]
  },
  {
   "cell_type": "code",
   "execution_count": 4,
   "metadata": {},
   "outputs": [
    {
     "output_type": "stream",
     "name": "stdout",
     "text": [
      "Tony is at zero index\nDenise is at 2nd Index\n4 is length of list\n"
     ]
    }
   ],
   "source": [
    "#accesing through indexing \n",
    "print(mylist1[0]+\" is at zero index\" )\n",
    "print(mylist1[2]+\" is at 2nd Index\")\n",
    "\n",
    "#length of list \n",
    "print(str(len(mylist1))+\" is length the of list 1\")\n"
   ]
  },
  {
   "cell_type": "code",
   "execution_count": 5,
   "metadata": {},
   "outputs": [
    {
     "output_type": "stream",
     "name": "stdout",
     "text": [
      "['Tony', 'Michael', 'Denise', 'Mark', 'GG', 'Bill', 'Elon']\n['Tony', 'Michael', 'Denise', 'Mark', 'GG', 'Bill', 'Elon', 'Boi', 'LOl', 'xd']\n"
     ]
    }
   ],
   "source": [
    "#append and insert to list \n",
    "mylist1.append(\"Bill\")\n",
    "mylist1.append(\"Elon\")\n",
    "mylist1.insert(4,\"GG\")\n",
    "print(mylist1)\n",
    "\n",
    "#extending to list\n",
    "mylist1.extend(mylist2)\n",
    "print(mylist1)\n"
   ]
  },
  {
   "cell_type": "code",
   "execution_count": 6,
   "metadata": {},
   "outputs": [
    {
     "output_type": "stream",
     "name": "stdout",
     "text": [
      "['Tony', 'Denise', 'Mark', 'GG', 'Elon', 'LOl', 'xd']\n"
     ]
    }
   ],
   "source": [
    "#delete and remove and pop\n",
    "del mylist1[1]\n",
    "mylist1.remove('Boi')\n",
    "mylist1.pop(4)\n",
    "print(mylist1)"
   ]
  },
  {
   "cell_type": "code",
   "execution_count": 7,
   "metadata": {},
   "outputs": [
    {
     "output_type": "stream",
     "name": "stdout",
     "text": [
      "['xd', 'LOl', 'Elon', 'GG', 'Mark', 'Denise', 'Tony']\n"
     ]
    }
   ],
   "source": [
    "#reverse the List\n",
    "mylist1.reverse()\n",
    "print(mylist1)"
   ]
  },
  {
   "cell_type": "code",
   "execution_count": 8,
   "metadata": {},
   "outputs": [
    {
     "output_type": "stream",
     "name": "stdout",
     "text": [
      "GG in mylist1\nxd\nLOl\nElon\nGG\nMark\nDenise\nTony\n"
     ]
    }
   ],
   "source": [
    "#if in,for in\n",
    "\n",
    "if \"GG\" in mylist1:\n",
    "    print(\"GG in mylist1\")\n",
    "else:\n",
    "    print(\"not in mylist1\")\n",
    "for i in mylist1:\n",
    "    print(i)"
   ]
  }
 ]
}