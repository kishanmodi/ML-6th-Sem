{
 "metadata": {
  "language_info": {
   "codemirror_mode": {
    "name": "ipython",
    "version": 3
   },
   "file_extension": ".py",
   "mimetype": "text/x-python",
   "name": "python",
   "nbconvert_exporter": "python",
   "pygments_lexer": "ipython3",
   "version": "3.9.1-final"
  },
  "orig_nbformat": 2,
  "kernelspec": {
   "name": "python3",
   "display_name": "Python 3",
   "language": "python"
  }
 },
 "nbformat": 4,
 "nbformat_minor": 2,
 "cells": [
  {
   "cell_type": "code",
   "execution_count": 1,
   "metadata": {},
   "outputs": [
    {
     "output_type": "stream",
     "name": "stdout",
     "text": [
      "{'Epicgames': 'Fortnite', 'Rockstar': 'GTAV', 'CDProjectRed': 'Cyberpunk 2077'}\n"
     ]
    }
   ],
   "source": [
    "#Dictionary Manipulation\n",
    "\n",
    "MyDict1 = {}\n",
    "\n",
    "MyDict1 = {\n",
    "    \"Epicgames\":\"Fortnite\",\n",
    "    \"Rockstar\":\"GTAV\",\n",
    "    \"CDProjectRed\":\"Cyberpunk 2077\"\n",
    "}\n",
    "print(MyDict1)"
   ]
  },
  {
   "cell_type": "code",
   "execution_count": 2,
   "metadata": {},
   "outputs": [
    {
     "output_type": "stream",
     "name": "stdout",
     "text": [
      "Fortnite\n"
     ]
    },
    {
     "output_type": "error",
     "ename": "KeyError",
     "evalue": "'EA'",
     "traceback": [
      "\u001b[1;31m---------------------------------------------------------------------------\u001b[0m",
      "\u001b[1;31mKeyError\u001b[0m                                  Traceback (most recent call last)",
      "\u001b[1;32m<ipython-input-2-ab3309f4a427>\u001b[0m in \u001b[0;36m<module>\u001b[1;34m\u001b[0m\n\u001b[0;32m      2\u001b[0m \u001b[1;33m\u001b[0m\u001b[0m\n\u001b[0;32m      3\u001b[0m \u001b[0mprint\u001b[0m\u001b[1;33m(\u001b[0m\u001b[0mMyDict1\u001b[0m\u001b[1;33m[\u001b[0m\u001b[1;34m\"Epicgames\"\u001b[0m\u001b[1;33m]\u001b[0m\u001b[1;33m)\u001b[0m\u001b[1;33m\u001b[0m\u001b[1;33m\u001b[0m\u001b[0m\n\u001b[1;32m----> 4\u001b[1;33m \u001b[0mprint\u001b[0m\u001b[1;33m(\u001b[0m\u001b[0mMyDict1\u001b[0m\u001b[1;33m[\u001b[0m\u001b[1;34m\"EA\"\u001b[0m\u001b[1;33m]\u001b[0m\u001b[1;33m)\u001b[0m \u001b[1;31m# It will raise an exception if the key is not in dictionary\u001b[0m\u001b[1;33m\u001b[0m\u001b[1;33m\u001b[0m\u001b[0m\n\u001b[0m",
      "\u001b[1;31mKeyError\u001b[0m: 'EA'"
     ]
    }
   ],
   "source": [
    "#accesing value of by keys\n",
    "\n",
    "print(MyDict1[\"Epicgames\"])\n",
    "print(MyDict1[\"EA\"]) # It will raise an exception if the key is not in dictionary"
   ]
  },
  {
   "cell_type": "code",
   "execution_count": 4,
   "metadata": {},
   "outputs": [
    {
     "output_type": "stream",
     "name": "stdout",
     "text": [
      "{'Epicgames': 'Fortnite', 'Rockstar': 'Red Dead Redeption 2', 'CDProjectRed': 'Cyberpunk 2077'}\n"
     ]
    }
   ],
   "source": [
    "#updta new value to existing key\n",
    "\n",
    "MyDict1[\"Rockstar\"] = \"Red Dead Redeption 2\"\n",
    "print(MyDict1)"
   ]
  },
  {
   "cell_type": "code",
   "execution_count": 5,
   "metadata": {},
   "outputs": [
    {
     "output_type": "stream",
     "name": "stdout",
     "text": [
      "{'Rockstar': 'Red Dead Redeption 2', 'CDProjectRed': 'Cyberpunk 2077'}\n"
     ]
    }
   ],
   "source": [
    "#delete any specific key from dictionary\n",
    "\n",
    "del MyDict1[\"Epicgames\"]\n",
    "print(MyDict1)"
   ]
  },
  {
   "cell_type": "code",
   "execution_count": 6,
   "metadata": {},
   "outputs": [
    {
     "output_type": "stream",
     "name": "stdout",
     "text": [
      "{'Epicgames': ['Fortnite'], 'Rockstar': ['RDR2', 'GTAV'], 'CDProjectRed': ['Witcher3', 'Cyberpunk 2077']}\n"
     ]
    }
   ],
   "source": [
    "#list as a vlaues in dictionary\n",
    "MyDict2 = {\n",
    "    \"Epicgames\":[\"Fortnite\"],\n",
    "    \"Rockstar\":[\"RDR2\",\"GTAV\"],\n",
    "    \"CDProjectRed\":[\"Witcher3\",\"Cyberpunk 2077\"]\n",
    "}\n",
    "print(MyDict2)"
   ]
  },
  {
   "cell_type": "code",
   "execution_count": 13,
   "metadata": {},
   "outputs": [
    {
     "output_type": "stream",
     "name": "stdout",
     "text": [
      "{'Epicgames': ['Fortnite'], 'Rockstar': ['RDR2', 'GTAV'], 'CDProjectRed': ['Witcher3', 'Cyberpunk 2077'], 'Naughty Dog': 'The Last Of Us'}\n"
     ]
    }
   ],
   "source": [
    "#add values and keys to the dictionary\n",
    "\n",
    "MyDict2[\"Naughty Dog\"]=\"The Last Of Us\"\n",
    "print(MyDict2)"
   ]
  },
  {
   "cell_type": "code",
   "execution_count": 11,
   "metadata": {},
   "outputs": [
    {
     "output_type": "stream",
     "name": "stdout",
     "text": [
      "{'Epicgames': ['Fortnite'], 'Rockstar': ['RDR2', 'GTAV'], 'CDProjectRed': ['Witcher3', 'Cyberpunk 2077']}\n"
     ]
    }
   ],
   "source": [
    "#copy dictionary\n",
    "\n",
    "newdict = MyDict2.copy()\n",
    "print(newdict)"
   ]
  },
  {
   "cell_type": "code",
   "execution_count": 10,
   "metadata": {},
   "outputs": [
    {
     "output_type": "stream",
     "name": "stdout",
     "text": [
      "['Fortnite']\n['RDR2', 'GTAV']\n['Witcher3', 'Cyberpunk 2077']\nEpicgames ['Fortnite']\nRockstar ['RDR2', 'GTAV']\nCDProjectRed ['Witcher3', 'Cyberpunk 2077']\n['Fortnite']\n['RDR2', 'GTAV']\n['Witcher3', 'Cyberpunk 2077']\n"
     ]
    }
   ],
   "source": [
    "#accesing values of all keys with for loop\n",
    "for key in MyDict2.keys():\n",
    "    print(MyDict2[key])\n",
    "    \n",
    "#accesing keys and values with for loop\n",
    "for key,values in MyDict2.items():\n",
    "    print(key,values)\n",
    "\n",
    "#accesing values of dictionary\n",
    "for values in MyDict2.values():\n",
    "    print(values)"
   ]
  },
  {
   "cell_type": "code",
   "execution_count": null,
   "metadata": {},
   "outputs": [],
   "source": []
  }
 ]
}